{
  "nbformat": 4,
  "nbformat_minor": 0,
  "metadata": {
    "colab": {
      "name": "영화 형태소 분석기 툴",
      "provenance": [],
      "collapsed_sections": [],
      "include_colab_link": true
    },
    "kernelspec": {
      "name": "python3",
      "display_name": "Python 3"
    }
  },
  "cells": [
    {
      "cell_type": "markdown",
      "metadata": {
        "id": "view-in-github",
        "colab_type": "text"
      },
      "source": [
        "<a href=\"https://colab.research.google.com/github/wlsdl021498/201701199/blob/main/%EC%98%81%ED%99%94_%ED%98%95%ED%83%9C%EC%86%8C_%EB%B6%84%EC%84%9D%EA%B8%B0_%ED%88%B4.ipynb\" target=\"_parent\"><img src=\"https://colab.research.google.com/assets/colab-badge.svg\" alt=\"Open In Colab\"/></a>"
      ]
    },
    {
      "cell_type": "code",
      "metadata": {
        "id": "JkwDdwbgo-Mp",
        "cellView": "form",
        "outputId": "c354a4e8-603f-469d-e226-965044227a19",
        "colab": {
          "base_uri": "https://localhost:8080/"
        }
      },
      "source": [
        "#@title 환경 준비\n",
        "\n",
        "!pip install konlpy\n",
        "import pandas as pd\n",
        "\n",
        "from IPython.display import clear_output\n",
        "clear_output()\n",
        "\n",
        "print(\"###준비가 완료되었습니다.###\")"
      ],
      "execution_count": null,
      "outputs": [
        {
          "output_type": "stream",
          "text": [
            "###준비가 완료되었습니다.###\n"
          ],
          "name": "stdout"
        }
      ]
    },
    {
      "cell_type": "code",
      "metadata": {
        "id": "_KMWhC7KANGI",
        "outputId": "49ed6452-b5eb-4c4e-ab63-9cd1272b698d",
        "colab": {
          "base_uri": "https://localhost:8080/",
          "height": 222
        }
      },
      "source": [
        "#@title 데이터 불러오기(탭 \\t 으로 분리)\n",
        "구글드라이브ID = '1LFI4k6__9RNxRXWfS_hf0mIPpPH4Pkhy'  #@param {type: \"string\"}\n",
        "파일저장이름 = 'rawdata.txt'  #@param {type: \"string\"}\n",
        "\n",
        "import time\n",
        "start = time.time() # 시작시간\n",
        "\n",
        "# 구글 드라이브 연결을 위한 기본 세팅\n",
        "!pip install -U -q PyDrive\n",
        " \n",
        "from pydrive.auth import GoogleAuth\n",
        "from pydrive.drive import GoogleDrive\n",
        "from google.colab import auth\n",
        "from oauth2client.client import GoogleCredentials\n",
        " \n",
        "# 1. Authenticate and create the PyDrive client.\n",
        "auth.authenticate_user()\n",
        "gauth = GoogleAuth()\n",
        "gauth.credentials = GoogleCredentials.get_application_default()\n",
        "drive = GoogleDrive(gauth)\n",
        "\n",
        "# 문서 ID로 실제 파일 불러오는 법\n",
        "# 실습을 위한 역대 대통령 취임사: 노무현, 이명박, 박근혜, 문재인\n",
        "rawdata_downloaded = drive.CreateFile({'id': 구글드라이브ID})\n",
        "rawdata_downloaded.GetContentFile(파일저장이름)\n",
        "\n",
        "print(파일저장이름+\"을 정상적으로 가져왔습니다.\")\n",
        "\n",
        "import pandas as pd\n",
        "# 파일을 DataFrame으로 전환\n",
        "rawdata = pd.read_csv(파일저장이름, sep=\"\\t\", header=0, encoding='utf-8', engine='python')\n",
        "rawdata.head()"
      ],
      "execution_count": null,
      "outputs": [
        {
          "output_type": "stream",
          "text": [
            "rawdata.txt을 정상적으로 가져왔습니다.\n"
          ],
          "name": "stdout"
        },
        {
          "output_type": "execute_result",
          "data": {
            "text/html": [
              "<div>\n",
              "<style scoped>\n",
              "    .dataframe tbody tr th:only-of-type {\n",
              "        vertical-align: middle;\n",
              "    }\n",
              "\n",
              "    .dataframe tbody tr th {\n",
              "        vertical-align: top;\n",
              "    }\n",
              "\n",
              "    .dataframe thead th {\n",
              "        text-align: right;\n",
              "    }\n",
              "</style>\n",
              "<table border=\"1\" class=\"dataframe\">\n",
              "  <thead>\n",
              "    <tr style=\"text-align: right;\">\n",
              "      <th></th>\n",
              "      <th>type</th>\n",
              "      <th>text</th>\n",
              "    </tr>\n",
              "  </thead>\n",
              "  <tbody>\n",
              "    <tr>\n",
              "      <th>0</th>\n",
              "      <td>네이버</td>\n",
              "      <td>퍼시픽림보고 느낀건데, 트랜스포머1 만한건 다신 못볼것같다..</td>\n",
              "    </tr>\n",
              "    <tr>\n",
              "      <th>1</th>\n",
              "      <td>네이버</td>\n",
              "      <td>시간이 흐를수록 깨닫게 된다. 로봇영화가 계속해서 나오지만 트랜스포머1만큼의 감동은...</td>\n",
              "    </tr>\n",
              "    <tr>\n",
              "      <th>2</th>\n",
              "      <td>네이버</td>\n",
              "      <td>CG의 한획을 그었지</td>\n",
              "    </tr>\n",
              "    <tr>\n",
              "      <th>3</th>\n",
              "      <td>네이버</td>\n",
              "      <td>영화관에서 못본게 한이된다</td>\n",
              "    </tr>\n",
              "    <tr>\n",
              "      <th>4</th>\n",
              "      <td>네이버</td>\n",
              "      <td>이 영화 보고 처음 걸어나왔을때 주변에 있는 차들이 다 변신할것만 같았는데..</td>\n",
              "    </tr>\n",
              "  </tbody>\n",
              "</table>\n",
              "</div>"
            ],
            "text/plain": [
              "  type                                               text\n",
              "0  네이버                 퍼시픽림보고 느낀건데, 트랜스포머1 만한건 다신 못볼것같다..\n",
              "1  네이버  시간이 흐를수록 깨닫게 된다. 로봇영화가 계속해서 나오지만 트랜스포머1만큼의 감동은...\n",
              "2  네이버                                        CG의 한획을 그었지\n",
              "3  네이버                                     영화관에서 못본게 한이된다\n",
              "4  네이버        이 영화 보고 처음 걸어나왔을때 주변에 있는 차들이 다 변신할것만 같았는데.."
            ]
          },
          "metadata": {
            "tags": []
          },
          "execution_count": 55
        }
      ]
    },
    {
      "cell_type": "code",
      "metadata": {
        "id": "EKF7EUhJ4NPx",
        "cellView": "form",
        "outputId": "ad232d04-e81f-4d9d-a935-1072bced5048",
        "colab": {
          "base_uri": "https://localhost:8080/"
        }
      },
      "source": [
        "#@title 형태소 분석 및 저장(파이썬은 0부터 시작!!!)\n",
        "텍스트데이터위치 =   1#@param {type: \"number\"}\n",
        "타입데이터위치 =   0#@param {type: \"number\"}\n",
        "파일저장이름 = '\\uD2B8\\uB79C\\uC2A4\\uD3EC\\uBA381.csv'  #@param {type: \"string\"}\n",
        "\n",
        "# 분석하기\n",
        "from itertools import product\n",
        "import numpy as np\n",
        "from konlpy.tag import Okt\n",
        "okt = Okt()\n",
        "\n",
        "segments  = []\n",
        "for index, row in rawdata.iterrows():\n",
        "    textdata = row[텍스트데이터위치]\n",
        "    type = row[타입데이터위치]\n",
        "    words = list(okt.pos(textdata))\n",
        "    words = pd.DataFrame.from_records(words)\n",
        "    words['type'] = type\n",
        "    words['count'] = 1      \n",
        "    segments.append(words)\n",
        "\n",
        "# 단일 데이터프레임 구조로 변환\n",
        "framemerge = pd.concat(segments)\n",
        "\n",
        "# 데이터프레임의 컬럼값 조정\n",
        "framemerge.columns = [\"terms\", \"pos\", \"type\", \"count\"]\n",
        "\n",
        "print(\"##################################################\")\n",
        "print(\"타입별 형태소 추출 결과\")\n",
        "print(framemerge)\n",
        "print(\"##################################################\")\n",
        "\n",
        "# 데이터 정리하기\n",
        "dfwordflag = framemerge.groupby(['terms', 'pos', \"type\"])['count'].sum()\n",
        "\n",
        "# 단일 데이터프레임 구조로 변환\n",
        "dfwordflag = pd.DataFrame(dfwordflag)\n",
        "\n",
        "print(\"##################################################\")\n",
        "print(\"형태소+품사+타입을 기준으로 묶어주기 결과\")\n",
        "print(dfwordflag)\n",
        "print(\"##################################################\")\n",
        "\n",
        "\n",
        "#csv로 출력\n",
        "dfwordflag.to_csv(파일저장이름,header='true', quotechar='\"', encoding='utf-8')\n",
        "\n",
        "print(\"##################################################\")\n",
        "print(\"데이터를 \" + 파일저장이름 + \"로 저장 완료\")\n",
        "print(\"##################################################\")\n"
      ],
      "execution_count": null,
      "outputs": [
        {
          "output_type": "stream",
          "text": [
            "##################################################\n",
            "타입별 형태소 추출 결과\n",
            "    terms          pos type  count\n",
            "0    퍼시픽림         Noun  네이버      1\n",
            "1      보고         Noun  네이버      1\n",
            "2    느낀건데         Verb  네이버      1\n",
            "3       ,  Punctuation  네이버      1\n",
            "4   트랜스포머         Noun  네이버      1\n",
            "..    ...          ...  ...    ...\n",
            "11     지만         Josa  네이버      1\n",
            "12   리메이크         Noun  네이버      1\n",
            "13      한   Determiner  네이버      1\n",
            "14     거래         Noun  네이버      1\n",
            "15     니까         Josa  네이버      1\n",
            "\n",
            "[7505 rows x 4 columns]\n",
            "##################################################\n",
            "##################################################\n",
            "형태소+품사+타입을 기준으로 묶어주기 결과\n",
            "                        count\n",
            "terms pos         type       \n",
            "!     Punctuation 네이버      15\n",
            "!!    Punctuation 네이버       6\n",
            "!!!   Punctuation 네이버       6\n",
            "!!!!  Punctuation 네이버       2\n",
            "!!.   Punctuation 네이버       1\n",
            "...                       ...\n",
            "히어로   Noun        네이버       1\n",
            "힘     Noun        네이버       1\n",
            "힘들    Adjective   네이버       2\n",
            "힘들듯   Adjective   네이버       1\n",
            "힘듬    Adjective   네이버       1\n",
            "\n",
            "[2269 rows x 1 columns]\n",
            "##################################################\n",
            "##################################################\n",
            "데이터를 트랜스포머1.csv로 저장 완료\n",
            "##################################################\n"
          ],
          "name": "stdout"
        }
      ]
    }
  ]
}